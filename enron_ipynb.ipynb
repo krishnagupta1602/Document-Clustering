{
 "cells": [
  {
   "cell_type": "code",
   "execution_count": 1,
   "id": "74fb302e",
   "metadata": {},
   "outputs": [],
   "source": [
    "import pandas as pd\n",
    "import numpy as np\n",
    "from sklearn.metrics import jaccard_score\n",
    "from sklearn.metrics import pairwise_distances\n",
    "import matplotlib.pyplot as plt\n",
    "from sklearn.cluster import KMeans\n",
    "from sklearn import metrics"
   ]
  },
  {
   "cell_type": "code",
   "execution_count": 2,
   "id": "0139a005",
   "metadata": {},
   "outputs": [],
   "source": [
    "from scipy.spatial.distance import cdist \n",
    " \n",
    "#Function to implement steps given in previous section\n",
    "def kmeans(x,k, no_of_iterations=5):\n",
    "    idx = np.random.choice(len(x), k, replace=False)\n",
    "    #Randomly choosing Centroids \n",
    "    centroids = x[idx, :] #Step 1\n",
    "     \n",
    "    #finding the distance between centroids and all the data points\n",
    "    distances = cdist(x, centroids ,'jaccard') #Step 2\n",
    "     \n",
    "    #Centroid with the minimum Distance\n",
    "    points = np.array([np.argmin(i) for i in distances]) #Step 3\n",
    "     \n",
    "    #Repeating the above steps for a defined number of iterations\n",
    "    #Step 4\n",
    "    for _ in range(no_of_iterations): \n",
    "        centroids = []\n",
    "        for idx in range(k):\n",
    "            #Updating Centroids by taking mean of Cluster it belongs to\n",
    "            temp_cent = x[points==idx][np.argmin(cdist(x[points==idx], x[points==idx] ,'jaccard').sum(axis=0))]\n",
    "            centroids.append(temp_cent)\n",
    " \n",
    "        centroids = np.vstack(centroids) #Updated Centroids \n",
    "         \n",
    "        distances = cdist(x, centroids ,'jaccard')\n",
    "        points = np.array([np.argmin(i) for i in distances])\n",
    "         \n",
    "    return points,centroids"
   ]
  },
  {
   "cell_type": "code",
   "execution_count": 3,
   "id": "2246dceb",
   "metadata": {},
   "outputs": [],
   "source": [
    "def kmean_inertia(data,k=5,max_iter=10):\n",
    "        k_means=kmeans(data,k,max_iter)\n",
    "        cluster=k_means[0]\n",
    "        centroids=k_means[1]\n",
    "        Inertia=0\n",
    "        for i in range(k):\n",
    "            cluster_k=data[cluster==i]\n",
    "            cen_k = centroids[i]\n",
    "            #clus = cluster[i]\n",
    "            Inertia+=cdist(cluster_k,[cen_k] ,'jaccard').sum(axis=0)\n",
    "        return Inertia\n",
    "                \n",
    "def optimize(data,m,max_iter=10):\n",
    "    x = []\n",
    "    for i in range(1,m):\n",
    "        x.append(kmean_inertia(data,k=i,max_iter=10))\n",
    "    return x"
   ]
  },
  {
   "cell_type": "code",
   "execution_count": 9,
   "id": "2498a376",
   "metadata": {},
   "outputs": [],
   "source": [
    "enron_txt = pd.read_csv(\"C:\\\\Users\\\\lenovo\\\\Downloads\\\\docword.enron.txt\", delimiter=\" \", names=['DocID', 'WordID', 'Freq'])"
   ]
  },
  {
   "cell_type": "code",
   "execution_count": 118,
   "id": "64961c94",
   "metadata": {},
   "outputs": [
    {
     "data": {
      "text/html": [
       "<div>\n",
       "<style scoped>\n",
       "    .dataframe tbody tr th:only-of-type {\n",
       "        vertical-align: middle;\n",
       "    }\n",
       "\n",
       "    .dataframe tbody tr th {\n",
       "        vertical-align: top;\n",
       "    }\n",
       "\n",
       "    .dataframe thead th {\n",
       "        text-align: right;\n",
       "    }\n",
       "</style>\n",
       "<table border=\"1\" class=\"dataframe\">\n",
       "  <thead>\n",
       "    <tr style=\"text-align: right;\">\n",
       "      <th></th>\n",
       "      <th>DocID</th>\n",
       "      <th>WordID</th>\n",
       "      <th>Freq</th>\n",
       "    </tr>\n",
       "  </thead>\n",
       "  <tbody>\n",
       "    <tr>\n",
       "      <th>0</th>\n",
       "      <td>1</td>\n",
       "      <td>118</td>\n",
       "      <td>1</td>\n",
       "    </tr>\n",
       "    <tr>\n",
       "      <th>1</th>\n",
       "      <td>1</td>\n",
       "      <td>285</td>\n",
       "      <td>1</td>\n",
       "    </tr>\n",
       "    <tr>\n",
       "      <th>2</th>\n",
       "      <td>1</td>\n",
       "      <td>1229</td>\n",
       "      <td>1</td>\n",
       "    </tr>\n",
       "    <tr>\n",
       "      <th>3</th>\n",
       "      <td>1</td>\n",
       "      <td>1688</td>\n",
       "      <td>1</td>\n",
       "    </tr>\n",
       "    <tr>\n",
       "      <th>4</th>\n",
       "      <td>1</td>\n",
       "      <td>2068</td>\n",
       "      <td>1</td>\n",
       "    </tr>\n",
       "    <tr>\n",
       "      <th>...</th>\n",
       "      <td>...</td>\n",
       "      <td>...</td>\n",
       "      <td>...</td>\n",
       "    </tr>\n",
       "    <tr>\n",
       "      <th>3710415</th>\n",
       "      <td>39861</td>\n",
       "      <td>18448</td>\n",
       "      <td>1</td>\n",
       "    </tr>\n",
       "    <tr>\n",
       "      <th>3710416</th>\n",
       "      <td>39861</td>\n",
       "      <td>18848</td>\n",
       "      <td>1</td>\n",
       "    </tr>\n",
       "    <tr>\n",
       "      <th>3710417</th>\n",
       "      <td>39861</td>\n",
       "      <td>23449</td>\n",
       "      <td>1</td>\n",
       "    </tr>\n",
       "    <tr>\n",
       "      <th>3710418</th>\n",
       "      <td>39861</td>\n",
       "      <td>25721</td>\n",
       "      <td>1</td>\n",
       "    </tr>\n",
       "    <tr>\n",
       "      <th>3710419</th>\n",
       "      <td>39861</td>\n",
       "      <td>27196</td>\n",
       "      <td>1</td>\n",
       "    </tr>\n",
       "  </tbody>\n",
       "</table>\n",
       "<p>3710420 rows × 3 columns</p>\n",
       "</div>"
      ],
      "text/plain": [
       "         DocID  WordID  Freq\n",
       "0            1     118     1\n",
       "1            1     285     1\n",
       "2            1    1229     1\n",
       "3            1    1688     1\n",
       "4            1    2068     1\n",
       "...        ...     ...   ...\n",
       "3710415  39861   18448     1\n",
       "3710416  39861   18848     1\n",
       "3710417  39861   23449     1\n",
       "3710418  39861   25721     1\n",
       "3710419  39861   27196     1\n",
       "\n",
       "[3710420 rows x 3 columns]"
      ]
     },
     "execution_count": 118,
     "metadata": {},
     "output_type": "execute_result"
    }
   ],
   "source": [
    "enron_txt"
   ]
  },
  {
   "cell_type": "code",
   "execution_count": 15,
   "id": "9bc62efa",
   "metadata": {},
   "outputs": [],
   "source": [
    " enron_txt_new = enron_txt.groupby('WordID').sum()"
   ]
  },
  {
   "cell_type": "code",
   "execution_count": 106,
   "id": "51331ad1",
   "metadata": {},
   "outputs": [
    {
     "data": {
      "text/html": [
       "<div>\n",
       "<style scoped>\n",
       "    .dataframe tbody tr th:only-of-type {\n",
       "        vertical-align: middle;\n",
       "    }\n",
       "\n",
       "    .dataframe tbody tr th {\n",
       "        vertical-align: top;\n",
       "    }\n",
       "\n",
       "    .dataframe thead th {\n",
       "        text-align: right;\n",
       "    }\n",
       "</style>\n",
       "<table border=\"1\" class=\"dataframe\">\n",
       "  <thead>\n",
       "    <tr style=\"text-align: right;\">\n",
       "      <th></th>\n",
       "      <th>WordID</th>\n",
       "      <th>DocID</th>\n",
       "      <th>Freq</th>\n",
       "    </tr>\n",
       "  </thead>\n",
       "  <tbody>\n",
       "    <tr>\n",
       "      <th>0</th>\n",
       "      <td>19190</td>\n",
       "      <td>118393361</td>\n",
       "      <td>32985</td>\n",
       "    </tr>\n",
       "    <tr>\n",
       "      <th>1</th>\n",
       "      <td>4865</td>\n",
       "      <td>107492542</td>\n",
       "      <td>32115</td>\n",
       "    </tr>\n",
       "    <tr>\n",
       "      <th>2</th>\n",
       "      <td>8243</td>\n",
       "      <td>130950127</td>\n",
       "      <td>28024</td>\n",
       "    </tr>\n",
       "    <tr>\n",
       "      <th>3</th>\n",
       "      <td>15231</td>\n",
       "      <td>138132900</td>\n",
       "      <td>24910</td>\n",
       "    </tr>\n",
       "    <tr>\n",
       "      <th>4</th>\n",
       "      <td>3450</td>\n",
       "      <td>134804537</td>\n",
       "      <td>24456</td>\n",
       "    </tr>\n",
       "    <tr>\n",
       "      <th>...</th>\n",
       "      <td>...</td>\n",
       "      <td>...</td>\n",
       "      <td>...</td>\n",
       "    </tr>\n",
       "    <tr>\n",
       "      <th>28094</th>\n",
       "      <td>18950</td>\n",
       "      <td>59350</td>\n",
       "      <td>2</td>\n",
       "    </tr>\n",
       "    <tr>\n",
       "      <th>28095</th>\n",
       "      <td>18951</td>\n",
       "      <td>35102</td>\n",
       "      <td>2</td>\n",
       "    </tr>\n",
       "    <tr>\n",
       "      <th>28096</th>\n",
       "      <td>843</td>\n",
       "      <td>18097</td>\n",
       "      <td>1</td>\n",
       "    </tr>\n",
       "    <tr>\n",
       "      <th>28097</th>\n",
       "      <td>14925</td>\n",
       "      <td>11989</td>\n",
       "      <td>1</td>\n",
       "    </tr>\n",
       "    <tr>\n",
       "      <th>28098</th>\n",
       "      <td>16430</td>\n",
       "      <td>11918</td>\n",
       "      <td>1</td>\n",
       "    </tr>\n",
       "  </tbody>\n",
       "</table>\n",
       "<p>28099 rows × 3 columns</p>\n",
       "</div>"
      ],
      "text/plain": [
       "       WordID      DocID   Freq\n",
       "0       19190  118393361  32985\n",
       "1        4865  107492542  32115\n",
       "2        8243  130950127  28024\n",
       "3       15231  138132900  24910\n",
       "4        3450  134804537  24456\n",
       "...       ...        ...    ...\n",
       "28094   18950      59350      2\n",
       "28095   18951      35102      2\n",
       "28096     843      18097      1\n",
       "28097   14925      11989      1\n",
       "28098   16430      11918      1\n",
       "\n",
       "[28099 rows x 3 columns]"
      ]
     },
     "execution_count": 106,
     "metadata": {},
     "output_type": "execute_result"
    }
   ],
   "source": [
    " enron_txt_sort=enron_txt_new.sort_values(by=['Freq'], ascending=False).reset_index() #DocIDs are meaningless here.\n",
    " enron_txt_sort"
   ]
  },
  {
   "cell_type": "code",
   "execution_count": 107,
   "id": "f8aec936",
   "metadata": {},
   "outputs": [
    {
     "data": {
      "text/plain": [
       "[<matplotlib.lines.Line2D at 0x25d080c4250>]"
      ]
     },
     "execution_count": 107,
     "metadata": {},
     "output_type": "execute_result"
    },
    {
     "data": {
      "image/png": "[encoded data removed]",
      "text/plain": [
       "<Figure size 432x288 with 1 Axes>"
      ]
     },
     "metadata": {
      "needs_background": "light"
     },
     "output_type": "display_data"
    }
   ],
   "source": [
    "#Words with frequence less than a threshold (right tail of descending array)\n",
    "l=20000\n",
    "k=28099\n",
    "plt.plot(range(l,k),enron_txt_sort[\"Freq\"][l:k])"
   ]
  },
  {
   "cell_type": "code",
   "execution_count": 108,
   "id": "e72cbc88",
   "metadata": {},
   "outputs": [
    {
     "data": {
      "text/plain": [
       "[<matplotlib.lines.Line2D at 0x25d08136670>]"
      ]
     },
     "execution_count": 108,
     "metadata": {},
     "output_type": "execute_result"
    },
    {
     "data": {
      "image/png": "[encoded data removed]",
      "text/plain": [
       "<Figure size 432x288 with 1 Axes>"
      ]
     },
     "metadata": {
      "needs_background": "light"
     },
     "output_type": "display_data"
    }
   ],
   "source": [
    "#Words with frequence more than a threshold (left tail of descending array)\n",
    "l=11000\n",
    "k=12000\n",
    "plt.plot(range(l,k),enron_txt_sort[\"Freq\"][l:k])"
   ]
  },
  {
   "cell_type": "code",
   "execution_count": null,
   "id": "6c2b2725",
   "metadata": {},
   "outputs": [],
   "source": [
    "# By error and trial we find the limits such that we remove words occuring less than 15 times(8000 words appx) and words occuring more than 50 times(12000 appx)"
   ]
  },
  {
   "cell_type": "code",
   "execution_count": 151,
   "id": "bb9624e0",
   "metadata": {},
   "outputs": [
    {
     "data": {
      "text/plain": [
       "7999"
      ]
     },
     "execution_count": 151,
     "metadata": {},
     "output_type": "execute_result"
    }
   ],
   "source": [
    "enron_txt_list=list(enron_txt_sort[\"WordID\"][12000:19999])\n",
    "len(enron_txt_list)"
   ]
  },
  {
   "cell_type": "code",
   "execution_count": 149,
   "id": "a3100522",
   "metadata": {},
   "outputs": [
    {
     "ename": "KeyboardInterrupt",
     "evalue": "",
     "output_type": "error",
     "traceback": [
      "\u001b[1;31m---------------------------------------------------------------------------\u001b[0m",
      "\u001b[1;31mKeyboardInterrupt\u001b[0m                         Traceback (most recent call last)",
      "\u001b[1;32m~\\AppData\\Local\\Temp/ipykernel_57988/1542452358.py\u001b[0m in \u001b[0;36m<module>\u001b[1;34m\u001b[0m\n\u001b[0;32m      2\u001b[0m \u001b[1;32mfor\u001b[0m \u001b[0mi\u001b[0m \u001b[1;32min\u001b[0m \u001b[0mrange\u001b[0m\u001b[1;33m(\u001b[0m\u001b[1;36m3710420\u001b[0m\u001b[1;33m)\u001b[0m\u001b[1;33m:\u001b[0m\u001b[1;33m\u001b[0m\u001b[1;33m\u001b[0m\u001b[0m\n\u001b[0;32m      3\u001b[0m     \u001b[1;32mif\u001b[0m \u001b[0menron_txt\u001b[0m\u001b[1;33m.\u001b[0m\u001b[0miloc\u001b[0m\u001b[1;33m[\u001b[0m\u001b[0mi\u001b[0m\u001b[1;33m,\u001b[0m\u001b[1;36m1\u001b[0m\u001b[1;33m]\u001b[0m \u001b[1;32mnot\u001b[0m \u001b[1;32min\u001b[0m \u001b[0menron_txt_list\u001b[0m\u001b[1;33m:\u001b[0m\u001b[1;33m\u001b[0m\u001b[1;33m\u001b[0m\u001b[0m\n\u001b[1;32m----> 4\u001b[1;33m         \u001b[0mrows_to_remove\u001b[0m\u001b[1;33m.\u001b[0m\u001b[0mappend\u001b[0m\u001b[1;33m(\u001b[0m\u001b[0mi\u001b[0m\u001b[1;33m)\u001b[0m\u001b[1;33m\u001b[0m\u001b[1;33m\u001b[0m\u001b[0m\n\u001b[0m",
      "\u001b[1;31mKeyboardInterrupt\u001b[0m: "
     ]
    }
   ],
   "source": [
    "rows_to_remove=[]\n",
    "for i in range(3710420):\n",
    "    if enron_txt.iloc[i,1] not in enron_txt_list:\n",
    "        rows_to_remove.append(i)"
   ]
  },
  {
   "cell_type": "code",
   "execution_count": null,
   "id": "b08537af",
   "metadata": {},
   "outputs": [],
   "source": [
    "#The previous command did not run because of huge repeated iteration in approx 37 lakh rows.\n",
    "#The idea is simple, we have found a list of 8000 Word IDs which which help us reduce original bag of words to a manageable size, on which similar operations could be applied as were done to Nips and Kos."
   ]
  }
 ],
 "metadata": {
  "kernelspec": {
   "display_name": "Python 3 (ipykernel)",
   "language": "python",
   "name": "python3"
  },
  "language_info": {
   "codemirror_mode": {
    "name": "ipython",
    "version": 3
   },
   "file_extension": ".py",
   "mimetype": "text/x-python",
   "name": "python",
   "nbconvert_exporter": "python",
   "pygments_lexer": "ipython3",
   "version": "3.9.7"
  }
 },
 "nbformat": 4,
 "nbformat_minor": 5
}
